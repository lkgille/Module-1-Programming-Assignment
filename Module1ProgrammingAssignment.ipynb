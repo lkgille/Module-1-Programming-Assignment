{
 "cells": [
  {
   "cell_type": "code",
   "execution_count": 7,
   "id": "0f6ff3ab-5fb6-4c9c-827a-eeda0a74795c",
   "metadata": {},
   "outputs": [
    {
     "name": "stdout",
     "output_type": "stream",
     "text": [
      "3600\n"
     ]
    }
   ],
   "source": [
    "# 3.1\n",
    "seconds_in_a_minute = 60\n",
    "minutes_in_hour = 60\n",
    "seconds_in_hour = seconds_in_a_minute * minutes_in_hour\n",
    "print(seconds_in_hour)"
   ]
  },
  {
   "cell_type": "markdown",
   "id": "4dabf755-4d00-4fbd-a84a-b14eb8b1d1bc",
   "metadata": {},
   "source": [
    "There are 3600 seconds in an hour."
   ]
  },
  {
   "cell_type": "code",
   "execution_count": 9,
   "id": "a1e2e7a9-830a-42bf-8a21-ec84e5195c58",
   "metadata": {},
   "outputs": [],
   "source": [
    "# 3.2\n",
    "seconds_per_hour = seconds_in_hour"
   ]
  },
  {
   "cell_type": "code",
   "execution_count": 11,
   "id": "18b46f39-f95f-43ca-83b5-8e57d58b1fe9",
   "metadata": {},
   "outputs": [
    {
     "data": {
      "text/plain": [
       "86400"
      ]
     },
     "execution_count": 11,
     "metadata": {},
     "output_type": "execute_result"
    }
   ],
   "source": [
    "# 3.3\n",
    "hours_in_day = 24\n",
    "seconds_in_day = seconds_per_hour * hours_in_day\n",
    "seconds_in_day"
   ]
  },
  {
   "cell_type": "markdown",
   "id": "e74cab9f-955e-4f00-8cad-a8ce9dca3fe5",
   "metadata": {},
   "source": [
    "There are 86400 seconds in a day."
   ]
  },
  {
   "cell_type": "code",
   "execution_count": 13,
   "id": "bdecf1e4-f297-4dc0-98bb-a2cfdec9e8e1",
   "metadata": {},
   "outputs": [
    {
     "data": {
      "text/plain": [
       "86400"
      ]
     },
     "execution_count": 13,
     "metadata": {},
     "output_type": "execute_result"
    }
   ],
   "source": [
    "# 3.4\n",
    "seconds_per_day = seconds_in_day\n",
    "seconds_per_day"
   ]
  },
  {
   "cell_type": "code",
   "execution_count": 15,
   "id": "582d2740-a6b0-4a38-860f-c48cc0112cbf",
   "metadata": {},
   "outputs": [
    {
     "data": {
      "text/plain": [
       "24.0"
      ]
     },
     "execution_count": 15,
     "metadata": {},
     "output_type": "execute_result"
    }
   ],
   "source": [
    "# 3.5\n",
    "seconds_per_day / seconds_per_hour"
   ]
  },
  {
   "cell_type": "code",
   "execution_count": 17,
   "id": "b15407e4-3eef-4513-8c5d-4258bb418497",
   "metadata": {},
   "outputs": [
    {
     "data": {
      "text/plain": [
       "24"
      ]
     },
     "execution_count": 17,
     "metadata": {},
     "output_type": "execute_result"
    }
   ],
   "source": [
    "# 3.6\n",
    "seconds_per_day // seconds_per_hour "
   ]
  },
  {
   "cell_type": "markdown",
   "id": "3c81c355-5661-4b19-896c-18773829a82e",
   "metadata": {},
   "source": [
    "This number does agree with the floating-point value from 3.5."
   ]
  }
 ],
 "metadata": {
  "kernelspec": {
   "display_name": "Python 3 (ipykernel)",
   "language": "python",
   "name": "python3"
  },
  "language_info": {
   "codemirror_mode": {
    "name": "ipython",
    "version": 3
   },
   "file_extension": ".py",
   "mimetype": "text/x-python",
   "name": "python",
   "nbconvert_exporter": "python",
   "pygments_lexer": "ipython3",
   "version": "3.12.7"
  }
 },
 "nbformat": 4,
 "nbformat_minor": 5
}
